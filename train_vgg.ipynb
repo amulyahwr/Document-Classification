{
 "cells": [
  {
   "cell_type": "code",
   "execution_count": 1,
   "metadata": {},
   "outputs": [
    {
     "name": "stderr",
     "output_type": "stream",
     "text": [
      "/home/mshaikh2/anaconda3/envs/pytorch-gpu/lib/python3.7/site-packages/tensorboard/compat/tensorflow_stub/dtypes.py:541: FutureWarning: Passing (type, 1) or '1type' as a synonym of type is deprecated; in a future version of numpy, it will be understood as (type, (1,)) / '(1,)type'.\n",
      "  _np_qint8 = np.dtype([(\"qint8\", np.int8, 1)])\n",
      "/home/mshaikh2/anaconda3/envs/pytorch-gpu/lib/python3.7/site-packages/tensorboard/compat/tensorflow_stub/dtypes.py:542: FutureWarning: Passing (type, 1) or '1type' as a synonym of type is deprecated; in a future version of numpy, it will be understood as (type, (1,)) / '(1,)type'.\n",
      "  _np_quint8 = np.dtype([(\"quint8\", np.uint8, 1)])\n",
      "/home/mshaikh2/anaconda3/envs/pytorch-gpu/lib/python3.7/site-packages/tensorboard/compat/tensorflow_stub/dtypes.py:543: FutureWarning: Passing (type, 1) or '1type' as a synonym of type is deprecated; in a future version of numpy, it will be understood as (type, (1,)) / '(1,)type'.\n",
      "  _np_qint16 = np.dtype([(\"qint16\", np.int16, 1)])\n",
      "/home/mshaikh2/anaconda3/envs/pytorch-gpu/lib/python3.7/site-packages/tensorboard/compat/tensorflow_stub/dtypes.py:544: FutureWarning: Passing (type, 1) or '1type' as a synonym of type is deprecated; in a future version of numpy, it will be understood as (type, (1,)) / '(1,)type'.\n",
      "  _np_quint16 = np.dtype([(\"quint16\", np.uint16, 1)])\n",
      "/home/mshaikh2/anaconda3/envs/pytorch-gpu/lib/python3.7/site-packages/tensorboard/compat/tensorflow_stub/dtypes.py:545: FutureWarning: Passing (type, 1) or '1type' as a synonym of type is deprecated; in a future version of numpy, it will be understood as (type, (1,)) / '(1,)type'.\n",
      "  _np_qint32 = np.dtype([(\"qint32\", np.int32, 1)])\n",
      "/home/mshaikh2/anaconda3/envs/pytorch-gpu/lib/python3.7/site-packages/tensorboard/compat/tensorflow_stub/dtypes.py:550: FutureWarning: Passing (type, 1) or '1type' as a synonym of type is deprecated; in a future version of numpy, it will be understood as (type, (1,)) / '(1,)type'.\n",
      "  np_resource = np.dtype([(\"resource\", np.ubyte, 1)])\n"
     ]
    }
   ],
   "source": [
    "from __future__ import division\n",
    "from __future__ import print_function\n",
    "\n",
    "import os, sys\n",
    "os.environ[\"CUDA_VISIBLE_DEVICES\"]=\"0\"\n",
    "import random\n",
    "import config\n",
    "import torch.optim as optim\n",
    "import numpy as np\n",
    "import pandas as pd\n",
    "import torch\n",
    "import torch.nn as nn\n",
    "# NEURAL NETWORK MODULES/LAYERS\n",
    "from dataset import Dataset\n",
    "# METRICS CLASS FOR EVALUATION\n",
    "from metrics import Metrics\n",
    "# CONFIG PARSER\n",
    "from config import parse_args\n",
    "# TRAIN AND TEST HELPER FUNCTIONS\n",
    "from trainer import Trainer\n",
    "import glob\n",
    "from tqdm import tqdm\n",
    "from PIL import Image\n",
    "import torchvision\n",
    "from torchvision import models\n",
    "from torch.utils.tensorboard import SummaryWriter\n",
    "\n",
    "import model_vgg16\n",
    "# import model_vgg19\n",
    "# import model_resnet50\n",
    "# import model_densenet121\n",
    "# import model_inceptionv3\n",
    "\n",
    "# MAIN BLOCK\n",
    "# def main():\n",
    "# global args\n",
    "# args = parse_args()\n",
    "# global logger\n"
   ]
  },
  {
   "cell_type": "code",
   "execution_count": 2,
   "metadata": {},
   "outputs": [
    {
     "data": {
      "text/plain": [
       "'1.2.0'"
      ]
     },
     "execution_count": 2,
     "metadata": {},
     "output_type": "execute_result"
    }
   ],
   "source": [
    "torch.__version__"
   ]
  },
  {
   "cell_type": "code",
   "execution_count": 3,
   "metadata": {},
   "outputs": [],
   "source": [
    "class config():\n",
    "    def __init__(self):\n",
    "        self.data='./data'\n",
    "        self.save='checkpoints/'\n",
    "        self.expname='vgg16_holistic'\n",
    "        self.expno=0\n",
    "        self.pretrained_model='vgg16'\n",
    "        self.num_classes=16\n",
    "        # training arguments\n",
    "        self.epochs=100000\n",
    "        self.batchsize=64\n",
    "        self.lr=0.0001\n",
    "        self.wd=1e-4\n",
    "        self.sparse=False\n",
    "        self.optim='adam'\n",
    "        # miscellaneous options\n",
    "        self.seed=123\n",
    "        self.cuda = torch.cuda.is_available()\n",
    "        self.device = torch.device(\"cuda\" if self.cuda else \"cpu\")\n",
    "        self.pretrained_holistic=0\n",
    "\n",
    "#         cuda_parser = parser.add_mutually_exclusive_group(required=False)\n",
    "#         cuda', dest='cuda', action='store_true')\n",
    "#         cuda_parser.add_argument('--no-cuda', dest='cuda', action='store_false')\n",
    "#         parser.set_defaults(cuda=True)\n",
    "        "
   ]
  },
  {
   "cell_type": "code",
   "execution_count": 4,
   "metadata": {},
   "outputs": [
    {
     "data": {
      "text/plain": [
       "64"
      ]
     },
     "execution_count": 4,
     "metadata": {},
     "output_type": "execute_result"
    }
   ],
   "source": [
    "args = config()\n",
    "writer = SummaryWriter(comment = args.expname)\n",
    "args.batchsize"
   ]
  },
  {
   "cell_type": "code",
   "execution_count": 5,
   "metadata": {},
   "outputs": [],
   "source": [
    "\n",
    "torch.manual_seed(args.seed)\n",
    "random.seed(args.seed)\n",
    "\n",
    "if args.cuda:\n",
    "    torch.cuda.manual_seed(args.seed)\n",
    "    torch.backends.cudnn.benchmark = True\n",
    "\n",
    "if not os.path.exists(args.save):\n",
    "    os.makedirs(args.save)\n",
    "\n"
   ]
  },
  {
   "cell_type": "code",
   "execution_count": 6,
   "metadata": {},
   "outputs": [],
   "source": [
    "# initialize model, criterion/loss_function, optimizer\n",
    "pretrained_vgg16 = models.vgg16(pretrained=True)\n",
    "\n",
    "# Freeze training for all layers\n",
    "# for child in pretrained_vgg16.children():\n",
    "#     for param in child.parameters():\n",
    "#         param.requires_grad = False\n",
    "start_point = 0\n",
    "\n",
    "if args.pretrained_holistic == 0:\n",
    "    if os.path.exists('./checkpoints/vgg16_holistic.pt'):\n",
    "        model = model_vgg16.DocClassificationHolistic(args, pretrained_vgg16)\n",
    "        checkpoint = torch.load('./checkpoints/vgg16_holistic.pt')\n",
    "        model.load_state_dict(checkpoint['model'])\n",
    "        start_point = checkpoint['epoch']\n",
    "    else:\n",
    "        model = model_vgg16.DocClassificationHolistic(args, pretrained_vgg16)\n",
    "elif args.pretrained_holistic == 1:\n",
    "    if os.path.exists('./checkpoints/vgg16_ensemble.pt'):\n",
    "        pretrained_orig_vgg16 = model_vgg16.DocClassificationHolistic(args, pretrained_vgg16)\n",
    "        pretrained_holistic = model_vgg16.DocClassificationHolistic(args, pretrained_orig_vgg16.pretrained_model)\n",
    "        checkpoint = torch.load('./checkpoints/vgg16_holistic.pt')\n",
    "        pretrained_holistic.load_state_dict(checkpoint['model'])\n",
    "        \n",
    "        model = model_vgg16.DocClassificationRest(args, pretrained_orig_vgg16, pretrained_holistic)\n",
    "        checkpoint = torch.load('./checkpoints/vgg16_ensemble.pt')\n",
    "        model.load_state_dict(checkpoint['model'])\n",
    "        start_point = checkpoint['epoch']\n",
    "    else:\n",
    "        pretrained_orig_vgg16 = model_vgg16.DocClassificationHolistic(args, pretrained_vgg16)\n",
    "        pretrained_holistic = model_vgg16.DocClassificationHolistic(args, pretrained_orig_vgg16.pretrained_model)\n",
    "        checkpoint = torch.load('./checkpoints/vgg16_holistic.pt')\n",
    "        pretrained_holistic.load_state_dict(checkpoint['model'])\n",
    "\n",
    "        model = model_vgg16.DocClassificationRest(args, pretrained_orig_vgg16, pretrained_holistic)\n",
    "\n",
    "criterion = nn.CrossEntropyLoss(reduction='mean')\n",
    "\n",
    "parameters = filter(lambda p: p.requires_grad, model.parameters())\n",
    "\n",
    "if args.cuda:\n",
    "    model.cuda(), criterion.cuda()\n",
    "\n",
    "if args.optim=='adam':\n",
    "    optimizer   = optim.Adam(parameters, lr=args.lr, weight_decay=args.wd)\n",
    "elif args.optim=='adagrad':\n",
    "    optimizer   = optim.Adagrad(parameters, lr=args.lr, weight_decay=args.wd)\n",
    "elif args.optim=='sgd':\n",
    "    optimizer   = optim.SGD(parameters, lr=args.lr, weight_decay=args.wd)\n",
    "elif args.optim == 'adadelta':\n",
    "    optimizer = optim.Adadelta(parameters, lr=args.lr, weight_decay=args.wd)\n",
    "metrics = Metrics(args.num_classes)\n",
    "\n",
    "# create trainer object for training and testing\n",
    "trainer = Trainer(args, model, criterion, optimizer)"
   ]
  },
  {
   "cell_type": "code",
   "execution_count": 7,
   "metadata": {},
   "outputs": [],
   "source": [
    "# for child in pretrained_vgg16.children():\n",
    "#     for param in child.parameters():\n",
    "#         param.requires_grad = True\n",
    "#         print(param)\n",
    "# for parameter in model.parameters():\n",
    "#     print(parameter)"
   ]
  },
  {
   "cell_type": "code",
   "execution_count": 8,
   "metadata": {},
   "outputs": [
    {
     "name": "stdout",
     "output_type": "stream",
     "text": [
      "80000 16000 15999\n",
      "==> Size of train data   : 80000 \n",
      "==> Size of val data   : 16000 \n",
      "==> Size of test data   : 15999 \n"
     ]
    }
   ],
   "source": [
    "train_dir = glob.glob(os.path.join(args.data,'train/holistic/*.jpg'))\n",
    "dev_dir = glob.glob(os.path.join(args.data,'val/holistic/*.jpg'))\n",
    "test_dir = glob.glob(os.path.join(args.data,'test/holistic/*.jpg'))\n",
    "\n",
    "print(len(train_dir), len(dev_dir), len(test_dir))\n",
    "\n",
    "# 'data/labels/train.csv'\n",
    "train_dataset = Dataset('data/labels/train.csv','train', train_dir, model_type=args.pretrained_model)\n",
    "dev_dataset = Dataset('data/labels/val.csv','val',dev_dir, model_type=args.pretrained_model)\n",
    "test_dataset = Dataset('data/labels/test.csv','test', test_dir, model_type=args.pretrained_model)\n",
    "\n",
    "\n",
    "print('==> Size of train data   : %d ' % len(train_dataset))\n",
    "print('==> Size of val data   : %d ' % len(dev_dataset))\n",
    "print('==> Size of test data   : %d ' % len(test_dataset))\n",
    "\n",
    "train_idx = list(np.arange(len(train_dataset)))\n",
    "dev_idx = list(np.arange(len(dev_dataset)))\n",
    "test_idx = list(np.arange(len(test_dataset)))\n",
    "\n",
    "best = float('inf')\n",
    "columns = ['ExpName','ExpNo', 'Epoch', 'Loss','Accuracy']\n",
    "results = []\n",
    "early_stop_count = 0"
   ]
  },
  {
   "cell_type": "code",
   "execution_count": 9,
   "metadata": {},
   "outputs": [
    {
     "data": {
      "text/plain": [
       "(64, 224, 224)"
      ]
     },
     "execution_count": 9,
     "metadata": {},
     "output_type": "execute_result"
    }
   ],
   "source": [
    "bh,h,f,l,r,l = train_dataset[np.random.randint(55000,60000,64)]\n",
    "batch_holistic = torch.unsqueeze(bh, dim=1).repeat(1,3,1,1).float().cuda()\n",
    "writer.add_graph(model, input_to_model=batch_holistic)\n",
    "# writer.flush()\n",
    "bh = np.array(bh.detach().cpu())\n",
    "bh.shape"
   ]
  },
  {
   "cell_type": "code",
   "execution_count": 10,
   "metadata": {},
   "outputs": [
    {
     "name": "stdout",
     "output_type": "stream",
     "text": [
      "tensor([11, 11, 11, 11, 11, 11, 11, 11, 11, 11, 11, 11, 11, 11, 11, 11, 11, 11,\n",
      "        11, 11, 11, 11, 11, 11, 11, 11, 11, 11, 11, 11, 11, 11, 11, 11, 11, 11,\n",
      "        11, 11, 11, 11, 11, 11, 11, 11, 11, 11, 11, 11, 11, 11, 11, 11, 11, 11,\n",
      "        11, 11, 11, 11, 11, 11, 11, 11, 11, 11])\n"
     ]
    }
   ],
   "source": [
    "from matplotlib import pyplot as plt\n",
    "def plot_data(x,ax):\n",
    "#     x = x.reshape((size,size))\n",
    "    \n",
    "    ax.imshow(x, cmap='gray')\n",
    "#     if y is not None:\n",
    "#         ax.scatter(y[0::2] , y[1::2] , marker='x', s=10)\n",
    "def plot_images(x,batch_size=64):\n",
    "    fig = plt.figure(figsize=(50,50))\n",
    "    fig.subplots_adjust(left=0, right=1, bottom=0, top=1, hspace=0.01, wspace=0.01)\n",
    "    for i in range(batch_size):\n",
    "        ax = fig.add_subplot(8, 8, i + 1, xticks=[], yticks=[])\n",
    "    #     print(y['classes'][i])\n",
    "    #     print(np.argmax(c[i]))\n",
    "        plot_data(x[i], ax)\n",
    "plot_images(bh)\n",
    "print(l)\n",
    "# display(plot_images(np.squeeze(seg[0],axis=-1)))"
   ]
  },
  {
   "cell_type": "code",
   "execution_count": null,
   "metadata": {},
   "outputs": [
    {
     "name": "stderr",
     "output_type": "stream",
     "text": [
      "training:   5%|▌         | 5151/100000 [2:40:06<50:55:35,  1.93s/it]"
     ]
    }
   ],
   "source": [
    "\n",
    "\n",
    "for epoch in tqdm(range(start_point, args.epochs), desc= 'training'):\n",
    "\n",
    "    train_loss = 0.0\n",
    "    dev_loss = 0.0\n",
    "    test_loss = 0.0\n",
    "\n",
    "    train_predictions = []\n",
    "    train_labels = []\n",
    "\n",
    "    dev_predictions = []\n",
    "    dev_labels = []\n",
    "\n",
    "    test_predictions = []\n",
    "    test_labels = []\n",
    "\n",
    "    \n",
    "\n",
    "    batch_train_data = list(np.random.randint(0, len(train_idx), args.batchsize))\n",
    "    batch_dev_data = list(np.random.randint(0, len(dev_idx), args.batchsize))\n",
    "    batch_test_data = list(np.random.randint(0, len(test_idx), args.batchsize))\n",
    "    \n",
    "#     for batch in tqdm(batch_train_data, desc='Training batches..'):\n",
    "    train_batch_holistic, \\\n",
    "            train_batch_header, \\\n",
    "            train_batch_footer, \\\n",
    "            train_batch_left_body, \\\n",
    "            train_batch_right_body, \\\n",
    "            train_batch_labels = train_dataset[batch_train_data]\n",
    "    \n",
    "    if args.pretrained_holistic == 0:\n",
    "                _ = trainer.train_holistic(train_batch_holistic, train_batch_labels)\n",
    "    elif args.pretrained_holistic == 1:\n",
    "        _ = trainer.train_rest(train_batch_holistic, \\\n",
    "                                train_batch_header, \\\n",
    "                                train_batch_footer, \\\n",
    "                                train_batch_left_body, \\\n",
    "                                train_batch_right_body, \\\n",
    "                                train_batch_labels)\n",
    "\n",
    "#     for batch in tqdm(batch_train_data, desc='Training batches..'):\n",
    "    train_batch_holistic, \\\n",
    "            train_batch_header, \\\n",
    "            train_batch_footer, \\\n",
    "            train_batch_left_body, \\\n",
    "            train_batch_right_body, \\\n",
    "            train_batch_labels = train_dataset[batch_train_data]\n",
    "    \n",
    "    if args.pretrained_holistic == 0:\n",
    "                train_batch_loss, train_batch_predictions, train_batch_labels = trainer.test_holistic(train_batch_holistic, train_batch_labels)\n",
    "    elif args.pretrained_holistic == 1:\n",
    "        train_batch_loss, train_batch_predictions, train_batch_labels = trainer.test_rest(train_batch_holistic, \\\n",
    "                                                                                    train_batch_header, \\\n",
    "                                                                                    train_batch_footer, \\\n",
    "                                                                                    train_batch_left_body, \\\n",
    "                                                                                    train_batch_right_body, \\\n",
    "                                                                                    train_batch_labels)\n",
    "#         train_predictions.append(train_batch_predictions)\n",
    "#         train_labels.append(train_batch_labels)\n",
    "#         train_loss = train_loss + train_batch_loss\n",
    "\n",
    "    train_accuracy = metrics.accuracy(train_batch_predictions, train_batch_labels)\n",
    "\n",
    "#     for batch in tqdm(batch_dev_data, desc='Dev batches..'):\n",
    "    dev_batch_holistic, \\\n",
    "            dev_batch_header, \\\n",
    "            dev_batch_footer, \\\n",
    "            dev_batch_left_body, \\\n",
    "            dev_batch_right_body, \\\n",
    "            dev_batch_labels = dev_dataset[batch_dev_data]\n",
    "\n",
    "    if args.pretrained_holistic == 0:\n",
    "                dev_batch_loss, dev_batch_predictions, dev_batch_labels = trainer.test_holistic(dev_batch_holistic, dev_batch_labels)\n",
    "    elif args.pretrained_holistic == 1:\n",
    "        dev_batch_loss, dev_batch_predictions, dev_batch_labels = trainer.test_rest(dev_batch_holistic, \\\n",
    "                                                                                dev_batch_header, \\\n",
    "                                                                                dev_batch_footer, \\\n",
    "                                                                                dev_batch_left_body, \\\n",
    "                                                                                dev_batch_right_body, \\\n",
    "                                                                                dev_batch_labels)\n",
    "#         dev_predictions.append(dev_batch_predictions)\n",
    "#         dev_labels.append(dev_batch_labels)\n",
    "#         dev_loss = dev_loss + dev_batch_loss\n",
    "\n",
    "    dev_accuracy = metrics.accuracy(dev_batch_predictions, dev_batch_labels)\n",
    "\n",
    "#     for batch in tqdm(batch_test_data, desc='Test batches..'):\n",
    "    test_batch_holistic, \\\n",
    "            test_batch_header, \\\n",
    "            test_batch_footer, \\\n",
    "            test_batch_left_body, \\\n",
    "            test_batch_right_body, \\\n",
    "            test_batch_labels = test_dataset[batch_test_data]\n",
    "\n",
    "    if args.pretrained_holistic == 0:\n",
    "                test_batch_loss, test_batch_predictions, test_batch_labels = trainer.test_holistic(test_batch_holistic, test_batch_labels)\n",
    "    elif args.pretrained_holistic == 1:\n",
    "        test_batch_loss, test_batch_predictions, test_batch_labels = trainer.test_rest(test_batch_holistic, \\\n",
    "                                                                                test_batch_header, \\\n",
    "                                                                                test_batch_footer, \\\n",
    "                                                                                test_batch_left_body, \\\n",
    "                                                                                test_batch_right_body, \\\n",
    "                                                                                test_batch_labels)\n",
    "\n",
    "#         test_predictions.append(test_batch_predictions)\n",
    "#         test_labels.append(test_batch_labels)\n",
    "#         test_loss = test_loss + test_batch_loss\n",
    "\n",
    "    test_accuracy = metrics.accuracy(test_batch_predictions, test_batch_labels)\n",
    "\n",
    "    writer.add_scalar('Loss/train',train_batch_loss.detach().cpu(), epoch)\n",
    "    writer.add_scalar('Loss/test', test_batch_loss.detach().cpu(), epoch)\n",
    "    writer.add_scalar('Loss/val', dev_batch_loss.detach().cpu(), epoch)\n",
    "    writer.add_scalar('Accuracy/val', dev_accuracy, epoch)\n",
    "    writer.add_scalar('Accuracy/train', train_accuracy, epoch)\n",
    "    writer.add_scalar('Accuracy/test', test_accuracy, epoch)\n",
    "    \n",
    "#     print('Epoch {:7d}, Train Loss: {:.2f}, Train Accuracy: {:.2f},' \\\n",
    "#           'Dev Loss: {:.2f}, Dev Accuracy: {:.2f}, Test Loss: {:.2f},' \\\n",
    "#           'Test Accuracy: {:.2f}'.format(epoch + 1 \\\n",
    "#                                      , train_batch_loss.detach().cpu() \\\n",
    "#                                      , train_accuracy \\\n",
    "#                                      , dev_batch_loss.detach().cpu() \\\n",
    "#                                      , dev_accuracy \\\n",
    "#                                      , test_batch_loss.detach().cpu() \\\n",
    "#                                      , test_accuracy), end = '\\r')\n",
    "    \n",
    "#     results.append((args.expname, \\\n",
    "#                     args.expno, \\\n",
    "#                     epoch+1, \\\n",
    "#                     test_batch_loss, \\\n",
    "#                     test_accuracy))\n",
    "\n",
    "    if best > test_batch_loss:\n",
    "        best = test_batch_loss\n",
    "        checkpoint = {'model': trainer.model.state_dict(), 'optim': trainer.optimizer,\n",
    "                      'loss': test_batch_loss, 'accuracy': test_accuracy,\n",
    "                      'args': args, 'epoch': epoch }\n",
    "#         logger.debug('==> New optimum found, checkpointing everything now...')\n",
    "        torch.save(checkpoint, '%s.pt' % os.path.join(args.save, args.expname))\n",
    "        #np.savetxt(\"test_pred.csv\", test_pred.numpy(), delimiter=\",\")\n",
    "        early_stop_count = 0\n",
    "    else:\n",
    "        early_stop_count = early_stop_count + 1\n",
    "\n",
    "        if early_stop_count == 1250:\n",
    "            print('Early Stopping')\n",
    "            print('Epoch {:7d}, Train Loss: {:.2f}, Train Accuracy: {:.2f},' \\\n",
    "          'Dev Loss: {:.2f}, Dev Accuracy: {:.2f}, Test Loss: {:.2f},' \\\n",
    "          'Test Accuracy: {:.2f}'.format(epoch + 1 \\\n",
    "                                     , train_batch_loss.detach().cpu() \\\n",
    "                                     , train_accuracy \\\n",
    "                                     , dev_batch_loss.detach().cpu() \\\n",
    "                                     , dev_accuracy \\\n",
    "                                     , test_batch_loss.detach().cpu() \\\n",
    "                                     , test_accuracy))\n",
    "    \n",
    "            break\n",
    "\n"
   ]
  },
  {
   "cell_type": "code",
   "execution_count": null,
   "metadata": {},
   "outputs": [],
   "source": [
    "# bh = train_dataset[np.random.randint(0,10000,64)][0]"
   ]
  },
  {
   "cell_type": "code",
   "execution_count": null,
   "metadata": {},
   "outputs": [],
   "source": [
    "# bh = train_dataset[np.random.randint(0,10000,64)][0]\n",
    "# batch_holistic = torch.unsqueeze(bh, dim=1).repeat(1,3,1,1).float()"
   ]
  },
  {
   "cell_type": "code",
   "execution_count": null,
   "metadata": {},
   "outputs": [],
   "source": [
    "# import os,numpy as np"
   ]
  },
  {
   "cell_type": "code",
   "execution_count": null,
   "metadata": {},
   "outputs": [],
   "source": [
    "# l = np.array(sorted(os.listdir('data/test/holistic/')))\n",
    "# _,cts = np.unique(l,return_counts=True)\n",
    "# cts[cts>1]"
   ]
  },
  {
   "cell_type": "code",
   "execution_count": null,
   "metadata": {},
   "outputs": [],
   "source": [
    "# import pandas as pd"
   ]
  },
  {
   "cell_type": "code",
   "execution_count": null,
   "metadata": {},
   "outputs": [],
   "source": [
    "# pd.read_csv('data/labels/test.csv',sep=' ')\n",
    "# np.unique(l,return_counts=True)"
   ]
  },
  {
   "cell_type": "code",
   "execution_count": null,
   "metadata": {},
   "outputs": [],
   "source": [
    "# import numpy as np\n",
    "# from PIL import Image\n",
    "# # Image.open('data/test/holistic/15999.jpg', mode='r')"
   ]
  },
  {
   "cell_type": "code",
   "execution_count": null,
   "metadata": {},
   "outputs": [],
   "source": [
    "# len(os.listdir('data/test/holistic/'))"
   ]
  },
  {
   "cell_type": "code",
   "execution_count": null,
   "metadata": {},
   "outputs": [],
   "source": [
    "# df_labels = pd.read_csv('data/stratified/rvl-cdip/labels/train.csv',names=['fn','l'],sep=' ')"
   ]
  },
  {
   "cell_type": "code",
   "execution_count": null,
   "metadata": {},
   "outputs": [],
   "source": [
    "# filenames = df_labels[df_labels['l']==12]['fn'].values"
   ]
  },
  {
   "cell_type": "code",
   "execution_count": null,
   "metadata": {},
   "outputs": [],
   "source": [
    "# idx = np.random.randint(0,5000,64)\n",
    "# images = []\n",
    "# for f in filenames[idx]:\n",
    "#     images.append(np.array(Image.open(os.path.join('data/stratified/rvl-cdip/images/',f))))"
   ]
  },
  {
   "cell_type": "code",
   "execution_count": null,
   "metadata": {},
   "outputs": [],
   "source": [
    "# plot_images(images)"
   ]
  },
  {
   "cell_type": "code",
   "execution_count": null,
   "metadata": {},
   "outputs": [],
   "source": []
  }
 ],
 "metadata": {
  "kernelspec": {
   "display_name": "Python (pt-gpu)",
   "language": "python",
   "name": "pytorch-gpu"
  },
  "language_info": {
   "codemirror_mode": {
    "name": "ipython",
    "version": 3
   },
   "file_extension": ".py",
   "mimetype": "text/x-python",
   "name": "python",
   "nbconvert_exporter": "python",
   "pygments_lexer": "ipython3",
   "version": "3.7.4"
  }
 },
 "nbformat": 4,
 "nbformat_minor": 2
}

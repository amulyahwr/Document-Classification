{
 "cells": [
  {
   "cell_type": "code",
   "execution_count": 1,
   "metadata": {},
   "outputs": [],
   "source": [
    "from __future__ import division\n",
    "from __future__ import print_function\n",
    "\n",
    "import os, sys\n",
    "os.environ[\"CUDA_VISIBLE_DEVICES\"]=\"0\"\n",
    "import random\n",
    "import config\n",
    "import torch.optim as optim\n",
    "import numpy as np\n",
    "import pandas as pd\n",
    "import torch\n",
    "import torch.nn as nn\n",
    "# NEURAL NETWORK MODULES/LAYERS\n",
    "from dataset import Dataset\n",
    "# METRICS CLASS FOR EVALUATION\n",
    "from metrics import Metrics\n",
    "# CONFIG PARSER\n",
    "from config import parse_args\n",
    "# TRAIN AND TEST HELPER FUNCTIONS\n",
    "from trainer import Trainer\n",
    "import glob\n",
    "from tqdm import tqdm\n",
    "from PIL import Image\n",
    "import torchvision\n",
    "from torchvision import models\n",
    "# from tensorboardX import SummaryWriter\n",
    "\n",
    "import model_vgg16\n",
    "# import model_vgg19\n",
    "# import model_resnet50\n",
    "# import model_densenet121\n",
    "# import model_inceptionv3\n",
    "\n",
    "# MAIN BLOCK\n",
    "# def main():\n",
    "# global args\n",
    "# args = parse_args()\n",
    "# global logger\n"
   ]
  },
  {
   "cell_type": "code",
   "execution_count": 2,
   "metadata": {},
   "outputs": [
    {
     "data": {
      "text/plain": [
       "'1.2.0'"
      ]
     },
     "execution_count": 2,
     "metadata": {},
     "output_type": "execute_result"
    }
   ],
   "source": [
    "torch.__version__"
   ]
  },
  {
   "cell_type": "code",
   "execution_count": 3,
   "metadata": {},
   "outputs": [],
   "source": [
    "class config():\n",
    "    def __init__(self):\n",
    "        self.data='./data'\n",
    "        self.save='checkpoints/'\n",
    "        self.expname='raw_vgg_holistic_multiple_loss__375_500'\n",
    "        self.expno=0\n",
    "        self.pretrained_model='vgg16'\n",
    "        self.num_classes=16\n",
    "        # training arguments\n",
    "        self.epochs=100000\n",
    "        self.batchsize=50\n",
    "        self.lr=0.0001\n",
    "        self.wd=1e-4\n",
    "        self.sparse=False\n",
    "        self.optim='adam'\n",
    "        # miscellaneous options\n",
    "        self.seed=123\n",
    "        self.cuda = torch.cuda.is_available()\n",
    "        self.device = torch.device(\"cuda\" if self.cuda else \"cpu\")\n",
    "        self.pretrained_holistic=0\n",
    "\n",
    "#         cuda_parser = parser.add_mutually_exclusive_group(required=False)\n",
    "#         cuda', dest='cuda', action='store_true')\n",
    "#         cuda_parser.add_argument('--no-cuda', dest='cuda', action='store_false')\n",
    "#         parser.set_defaults(cuda=True)\n",
    "        "
   ]
  },
  {
   "cell_type": "code",
   "execution_count": 4,
   "metadata": {},
   "outputs": [
    {
     "data": {
      "text/plain": [
       "50"
      ]
     },
     "execution_count": 4,
     "metadata": {},
     "output_type": "execute_result"
    }
   ],
   "source": [
    "args = config()\n",
    "# writer = SummaryWriter(comment = args.expname)\n",
    "args.batchsize"
   ]
  },
  {
   "cell_type": "code",
   "execution_count": 5,
   "metadata": {},
   "outputs": [],
   "source": [
    "\n",
    "torch.manual_seed(args.seed)\n",
    "random.seed(args.seed)\n",
    "\n",
    "if args.cuda:\n",
    "    torch.cuda.manual_seed(args.seed)\n",
    "    torch.backends.cudnn.benchmark = True\n",
    "\n",
    "if not os.path.exists(args.save):\n",
    "    os.makedirs(args.save)\n",
    "\n"
   ]
  },
  {
   "cell_type": "code",
   "execution_count": 6,
   "metadata": {},
   "outputs": [],
   "source": [
    "def create_optimizer(args, parameters):\n",
    "    if args.optim=='adam':\n",
    "        optimizer   = optim.Adam(parameters, lr=args.lr, weight_decay=args.wd)\n",
    "    elif args.optim=='adagrad':\n",
    "        optimizer   = optim.Adagrad(parameters, lr=args.lr, weight_decay=args.wd)\n",
    "    elif args.optim=='sgd':\n",
    "        optimizer   = optim.SGD(parameters, lr=args.lr, weight_decay=args.wd)\n",
    "    elif args.optim == 'adadelta':\n",
    "        optimizer = optim.Adadelta(parameters, lr=args.lr, weight_decay=args.wd)\n",
    "    return optimizer"
   ]
  },
  {
   "cell_type": "code",
   "execution_count": 7,
   "metadata": {},
   "outputs": [],
   "source": [
    "# initialize model, criterion/loss_function, optimizer\n",
    "pretrained_vgg16 = models.vgg16(pretrained=True)\n",
    "\n",
    "# Freeze training for all layers\n",
    "# for child in pretrained_vgg16.children():\n",
    "#     for param in child.parameters():\n",
    "#         param.requires_grad = False\n",
    "start_point = 0\n",
    "if args.pretrained_holistic == 0 and args.expname == 'vgg_holistic_375_500':\n",
    "    model = model_vgg16.DocClassificationHolistic(args, pretrained_vgg16)\n",
    "    optimizer = create_optimizer(args, list(model.parameters()))\n",
    "    \n",
    "    if os.path.exists('./checkpoints/vgg_holistic_375_500.pt'):\n",
    "        checkpoint = torch.load('./checkpoints/vgg_holistic_375_500.pt')\n",
    "        model.load_state_dict(checkpoint['model'])\n",
    "        if args.cuda:\n",
    "            model.cuda()\n",
    "        else:\n",
    "            start_point = 0\n",
    "        optimizer.load_state_dict(checkpoint['optim'])\n",
    "\n",
    "elif args.pretrained_holistic == 0 and args.expname != 'vgg_holistic_375_500':\n",
    "    model = model_vgg16.DocClassificationHolistic(args, pretrained_vgg16)\n",
    "    optimizer = create_optimizer(args, list(model.parameters()))\n",
    "    if os.path.exists('./checkpoints/{0}.pt'.format(args.expname)):\n",
    "        checkpoint = torch.load('./checkpoints/{0}.pt'.format(args.expname))\n",
    "        model.load_state_dict(checkpoint['model'])\n",
    "\n",
    "elif args.pretrained_holistic == 1:\n",
    "    checkpoint_holistic = torch.load('./checkpoints/vgg_holistic_375_500.pt')\n",
    "    vgg16 = model_vgg16.DocClassificationHolistic(args, pretrained_vgg16)\n",
    "    pretrained_holistic_model = model_vgg16.DocClassificationHolistic(args, pretrained_vgg16)\n",
    "    pretrained_holistic_model.load_state_dict(checkpoint_holistic['model'])\n",
    "\n",
    "    model = model_vgg16.DocClassificationRest(args, vgg16, pretrained_holistic_model)\n",
    "\n",
    "    parameters = list(pretrained_holistic_model.parameters()) #+ list(model.parameters()) + list(vgg16.parameters())\n",
    "\n",
    "    if os.path.exists('./checkpoints/{0}.pt'.format(args.expname)):\n",
    "        checkpoint_ensemble = torch.load('./checkpoints/{0}.pt'.format(args.expname))\n",
    "        model.load_state_dict(checkpoint_ensemble['model'])\n",
    "        if args.cuda:\n",
    "            model.cuda()\n",
    "\n",
    "        start_point = checkpoint_ensemble['epoch']\n",
    "        optimizer = create_optimizer(args, parameters)\n",
    "        optimizer.load_state_dict(checkpoint_ensemble['optim'])\n",
    "    else:\n",
    "        optimizer = create_optimizer(args, parameters)\n",
    "        #optimizer.load_state_dict(checkpoint_holistic['optim'])    \n",
    "\n",
    "criterion = nn.CrossEntropyLoss(reduction='mean')\n",
    "\n",
    "\n",
    "if args.cuda:\n",
    "    model.cuda(), criterion.cuda()\n",
    "\n",
    "\n",
    "metrics = Metrics(args.num_classes)\n",
    "\n",
    "# create trainer object for training and testing\n",
    "trainer = Trainer(args, model, criterion, optimizer)"
   ]
  },
  {
   "cell_type": "code",
   "execution_count": 8,
   "metadata": {
    "scrolled": true
   },
   "outputs": [
    {
     "name": "stdout",
     "output_type": "stream",
     "text": [
      "DocClassificationHolistic(\n",
      "  (pretrained_model): VGG(\n",
      "    (features): Sequential(\n",
      "      (0): Conv2d(3, 64, kernel_size=(3, 3), stride=(1, 1), padding=(1, 1))\n",
      "      (1): ReLU(inplace=True)\n",
      "      (2): Conv2d(64, 64, kernel_size=(3, 3), stride=(1, 1), padding=(1, 1))\n",
      "      (3): ReLU(inplace=True)\n",
      "      (4): MaxPool2d(kernel_size=2, stride=2, padding=0, dilation=1, ceil_mode=False)\n",
      "      (5): Conv2d(64, 128, kernel_size=(3, 3), stride=(1, 1), padding=(1, 1))\n",
      "      (6): ReLU(inplace=True)\n",
      "      (7): Conv2d(128, 128, kernel_size=(3, 3), stride=(1, 1), padding=(1, 1))\n",
      "      (8): ReLU(inplace=True)\n",
      "      (9): MaxPool2d(kernel_size=2, stride=2, padding=0, dilation=1, ceil_mode=False)\n",
      "      (10): Conv2d(128, 256, kernel_size=(3, 3), stride=(1, 1), padding=(1, 1))\n",
      "      (11): ReLU(inplace=True)\n",
      "      (12): Conv2d(256, 256, kernel_size=(3, 3), stride=(1, 1), padding=(1, 1))\n",
      "      (13): ReLU(inplace=True)\n",
      "      (14): Conv2d(256, 256, kernel_size=(3, 3), stride=(1, 1), padding=(1, 1))\n",
      "      (15): ReLU(inplace=True)\n",
      "      (16): MaxPool2d(kernel_size=2, stride=2, padding=0, dilation=1, ceil_mode=False)\n",
      "      (17): Conv2d(256, 512, kernel_size=(3, 3), stride=(1, 1), padding=(1, 1))\n",
      "      (18): ReLU(inplace=True)\n",
      "      (19): Conv2d(512, 512, kernel_size=(3, 3), stride=(1, 1), padding=(1, 1))\n",
      "      (20): ReLU(inplace=True)\n",
      "      (21): Conv2d(512, 512, kernel_size=(3, 3), stride=(1, 1), padding=(1, 1))\n",
      "      (22): ReLU(inplace=True)\n",
      "      (23): MaxPool2d(kernel_size=2, stride=2, padding=0, dilation=1, ceil_mode=False)\n",
      "      (24): Conv2d(512, 512, kernel_size=(3, 3), stride=(1, 1), padding=(1, 1))\n",
      "      (25): ReLU(inplace=True)\n",
      "      (26): Conv2d(512, 512, kernel_size=(3, 3), stride=(1, 1), padding=(1, 1))\n",
      "      (27): ReLU(inplace=True)\n",
      "      (28): Conv2d(512, 512, kernel_size=(3, 3), stride=(1, 1), padding=(1, 1))\n",
      "      (29): ReLU(inplace=True)\n",
      "      (30): MaxPool2d(kernel_size=2, stride=2, padding=0, dilation=1, ceil_mode=False)\n",
      "    )\n",
      "    (avgpool): AdaptiveAvgPool2d(output_size=(7, 7))\n",
      "    (classifier): Sequential(\n",
      "      (0): Linear(in_features=25088, out_features=4096, bias=True)\n",
      "      (1): ReLU(inplace=True)\n",
      "      (2): Dropout(p=0.5, inplace=False)\n",
      "      (3): Linear(in_features=4096, out_features=4096, bias=True)\n",
      "      (4): ReLU(inplace=True)\n",
      "      (5): Dropout(p=0.5, inplace=False)\n",
      "      (6): Linear(in_features=4096, out_features=16, bias=True)\n",
      "    )\n",
      "  )\n",
      ")\n",
      "Param Name: pretrained_model.features.0.weight Requires Training: True\n",
      "Param Name: pretrained_model.features.0.bias Requires Training: True\n",
      "Param Name: pretrained_model.features.2.weight Requires Training: True\n",
      "Param Name: pretrained_model.features.2.bias Requires Training: True\n",
      "Param Name: pretrained_model.features.5.weight Requires Training: True\n",
      "Param Name: pretrained_model.features.5.bias Requires Training: True\n",
      "Param Name: pretrained_model.features.7.weight Requires Training: True\n",
      "Param Name: pretrained_model.features.7.bias Requires Training: True\n",
      "Param Name: pretrained_model.features.10.weight Requires Training: True\n",
      "Param Name: pretrained_model.features.10.bias Requires Training: True\n",
      "Param Name: pretrained_model.features.12.weight Requires Training: True\n",
      "Param Name: pretrained_model.features.12.bias Requires Training: True\n",
      "Param Name: pretrained_model.features.14.weight Requires Training: True\n",
      "Param Name: pretrained_model.features.14.bias Requires Training: True\n",
      "Param Name: pretrained_model.features.17.weight Requires Training: True\n",
      "Param Name: pretrained_model.features.17.bias Requires Training: True\n",
      "Param Name: pretrained_model.features.19.weight Requires Training: True\n",
      "Param Name: pretrained_model.features.19.bias Requires Training: True\n",
      "Param Name: pretrained_model.features.21.weight Requires Training: True\n",
      "Param Name: pretrained_model.features.21.bias Requires Training: True\n",
      "Param Name: pretrained_model.features.24.weight Requires Training: True\n",
      "Param Name: pretrained_model.features.24.bias Requires Training: True\n",
      "Param Name: pretrained_model.features.26.weight Requires Training: True\n",
      "Param Name: pretrained_model.features.26.bias Requires Training: True\n",
      "Param Name: pretrained_model.features.28.weight Requires Training: True\n",
      "Param Name: pretrained_model.features.28.bias Requires Training: True\n",
      "Param Name: pretrained_model.classifier.0.weight Requires Training: True\n",
      "Param Name: pretrained_model.classifier.0.bias Requires Training: True\n",
      "Param Name: pretrained_model.classifier.3.weight Requires Training: True\n",
      "Param Name: pretrained_model.classifier.3.bias Requires Training: True\n",
      "Param Name: pretrained_model.classifier.6.weight Requires Training: True\n",
      "Param Name: pretrained_model.classifier.6.bias Requires Training: True\n",
      "Adam (\n",
      "Parameter Group 0\n",
      "    amsgrad: False\n",
      "    betas: (0.9, 0.999)\n",
      "    eps: 1e-08\n",
      "    lr: 0.0001\n",
      "    weight_decay: 0.0001\n",
      ")\n"
     ]
    }
   ],
   "source": [
    "print(model)\n",
    "for parameter, name in zip(model.parameters(), model.named_parameters()):\n",
    "     print(\"Param Name: \" + name[0] + \" Requires Training: \" + str(parameter.requires_grad))\n",
    "print(optimizer)"
   ]
  },
  {
   "cell_type": "code",
   "execution_count": 9,
   "metadata": {},
   "outputs": [
    {
     "name": "stdout",
     "output_type": "stream",
     "text": [
      "==> Size of test data   : 15999 \n"
     ]
    }
   ],
   "source": [
    "# train_dir = glob.glob(os.path.join(args.data,'train/holistic/*.jpg'))\n",
    "# dev_dir = glob.glob(os.path.join(args.data,'val/holistic/*.jpg'))\n",
    "# test_dir = glob.glob(os.path.join(args.data,'test/holistic/*.jpg'))\n",
    "\n",
    "# print(len(train_dir), len(dev_dir), len(test_dir))\n",
    "\n",
    "# 'data/labels/train.csv'\n",
    "# train_dataset = Dataset('data/stratified/rvl-cdip/labels/train.csv',model_type=args.pretrained_model)\n",
    "# dev_dataset = Dataset('data/stratified/rvl-cdip/labels/val.csv', model_type=args.pretrained_model)\n",
    "test_dataset = Dataset('data/stratified/rvl-cdip/labels/test.csv', model_type=args.pretrained_model)\n",
    "\n",
    "\n",
    "# print('==> Size of train data   : %d ' % len(train_dataset))\n",
    "# print('==> Size of val data   : %d ' % len(dev_dataset))\n",
    "print('==> Size of test data   : %d ' % len(test_dataset))\n",
    "\n",
    "# train_idx = list(np.arange(len(train_dataset)))\n",
    "# dev_idx = list(np.arange(len(dev_dataset)))\n",
    "test_idx = list(np.arange(len(test_dataset)))\n",
    "\n",
    "best = float('inf')\n",
    "columns = ['ExpName','ExpNo', 'Epoch', 'Loss','Accuracy']\n",
    "results = []\n",
    "early_stop_count = 0"
   ]
  },
  {
   "cell_type": "code",
   "execution_count": 10,
   "metadata": {},
   "outputs": [],
   "source": [
    "# bh,h,f,l,r,lab = train_dataset[np.random.randint(55000,60000,64)]\n",
    "# batch_holistic = torch.unsqueeze(bh , dim=1).repeat(1,3,1,1).float().cuda()\n",
    "# # bh = np.array(bh.detach().cpu())\n",
    "# print(bh.shape, batch_holistic.shape)\n",
    "# batch_header = torch.unsqueeze(h, dim=1).repeat(1,3,1,1).float().cuda()\n",
    "# batch_footer = torch.unsqueeze(f, dim=1).repeat(1,3,1,1).float().cuda()\n",
    "# batch_left = torch.unsqueeze(l, dim=1).repeat(1,3,1,1).float().cuda()\n",
    "# batch_right = torch.unsqueeze(r, dim=1).repeat(1,3,1,1).float().cuda()\n",
    "\n",
    "# all_data = [batch_holistic,batch_header,batch_footer,batch_left,batch_right]\n",
    "# writer.add_graph(model, input_to_model=all_data)\n",
    "# # writer.flush()\n"
   ]
  },
  {
   "cell_type": "code",
   "execution_count": 11,
   "metadata": {},
   "outputs": [],
   "source": [
    "# from matplotlib import pyplot as plt\n",
    "# def plot_data(x,ax):\n",
    "# #     x = x.reshape((size,size))\n",
    "    \n",
    "#     ax.imshow(x, cmap='gray')\n",
    "# #     if y is not None:\n",
    "# #         ax.scatter(y[0::2] , y[1::2] , marker='x', s=10)\n",
    "# def plot_images(x,batch_size=64):\n",
    "#     fig = plt.figure(figsize=(50,50))\n",
    "#     fig.subplots_adjust(left=0, right=1, bottom=0, top=1, hspace=0.01, wspace=0.01)\n",
    "#     for i in range(batch_size):\n",
    "#         ax = fig.add_subplot(8, 8, i + 1, xticks=[], yticks=[])\n",
    "#     #     print(y['classes'][i])\n",
    "#     #     print(np.argmax(c[i]))\n",
    "#         plot_data(x[i], ax)\n",
    "# plot_images(bh)\n",
    "# print(l)\n",
    "# # display(plot_images(np.squeeze(seg[0],axis=-1)))"
   ]
  },
  {
   "cell_type": "code",
   "execution_count": 12,
   "metadata": {},
   "outputs": [
    {
     "name": "stderr",
     "output_type": "stream",
     "text": [
      "Test batches..: 100%|██████████| 320/320 [06:57<00:00,  1.30s/it]"
     ]
    },
    {
     "name": "stdout",
     "output_type": "stream",
     "text": [
      "15999\n"
     ]
    },
    {
     "name": "stderr",
     "output_type": "stream",
     "text": [
      "\n"
     ]
    }
   ],
   "source": [
    "batch_test_idxs = []\n",
    "counter = 0\n",
    "\n",
    "while counter<len(test_dataset):\n",
    "    batch_test_idx = np.array(list(np.arange(counter, counter+args.batchsize)))\n",
    "    batch_test_idxs.append(batch_test_idx)\n",
    "    counter+=args.batchsize\n",
    "batch_test_idxs\n",
    "\n",
    "test_acc = []\n",
    "test_predictions = []\n",
    "test_labels = []\n",
    "\n",
    "\n",
    "# ----------------- Test ---------------------\n",
    "for batch_test_idx in tqdm(batch_test_idxs, desc='Test batches..'):\n",
    "#     print(batch_test_idx)\n",
    "    try:\n",
    "        test_batch_holistic, \\\n",
    "                test_batch_header, \\\n",
    "                test_batch_footer, \\\n",
    "                test_batch_left_body, \\\n",
    "                test_batch_right_body, \\\n",
    "                test_batch_labels = test_dataset[batch_test_idx]\n",
    "\n",
    "        if args.pretrained_holistic == 0 and args.expname == 'vgg_holistic_375_500':\n",
    "            test_batch_loss, test_batch_predictions, test_batch_labels = trainer.test_holistic(test_batch_holistic, test_batch_labels)\n",
    "        elif args.pretrained_holistic == 0 and args.expname != 'vgg_holistic_375_500':\n",
    "            test_batch_loss, test_batch_predictions, test_batch_labels = trainer.test_rest_multiple_loss(test_batch_holistic, \\\n",
    "                                                                                    test_batch_header, \\\n",
    "                                                                                    test_batch_footer, \\\n",
    "                                                                                    test_batch_left_body, \\\n",
    "                                                                                    test_batch_right_body, \\\n",
    "                                                                                    test_batch_labels)\n",
    "        elif args.pretrained_holistic == 1:\n",
    "            test_batch_loss, test_batch_predictions, test_batch_labels = trainer.test_rest(test_batch_holistic, \\\n",
    "                                    test_batch_header, \\\n",
    "                                    test_batch_footer, \\\n",
    "                                    test_batch_left_body, \\\n",
    "                                    test_batch_right_body, \\\n",
    "                                    test_batch_labels)\n",
    "    #         test_predictions.append(test_batch_predictions)\n",
    "    #         test_labels.append(test_batch_labels)\n",
    "    #         test_loss = test_loss + test_batch_loss\n",
    "\n",
    "        test_accuracy = metrics.accuracy(test_batch_predictions, test_batch_labels)\n",
    "    #     print(test_accuracy)\n",
    "        test_acc.append(test_accuracy)\n",
    "    except Exception as ex:\n",
    "        print(ex)\n",
    "        \n",
    "\n"
   ]
  },
  {
   "cell_type": "code",
   "execution_count": 19,
   "metadata": {},
   "outputs": [
    {
     "data": {
      "text/plain": [
       "'Accuracy of raw_vgg_holistic_multiple_loss__375_500: 87.0 %'"
      ]
     },
     "execution_count": 19,
     "metadata": {},
     "output_type": "execute_result"
    }
   ],
   "source": [
    "'Accuracy of {0}: {1} %'.format(args.expname, np.round(np.mean(test_acc),2)*100)\n"
   ]
  },
  {
   "cell_type": "code",
   "execution_count": null,
   "metadata": {},
   "outputs": [],
   "source": []
  }
 ],
 "metadata": {
  "kernelspec": {
   "display_name": "Python (pt-gpu)",
   "language": "python",
   "name": "pytorch-gpu"
  },
  "language_info": {
   "codemirror_mode": {
    "name": "ipython",
    "version": 3
   },
   "file_extension": ".py",
   "mimetype": "text/x-python",
   "name": "python",
   "nbconvert_exporter": "python",
   "pygments_lexer": "ipython3",
   "version": "3.7.4"
  }
 },
 "nbformat": 4,
 "nbformat_minor": 2
}
